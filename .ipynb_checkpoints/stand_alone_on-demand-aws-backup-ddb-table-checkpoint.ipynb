{
 "cells": [
  {
   "cell_type": "code",
   "execution_count": 95,
   "id": "acd00f08",
   "metadata": {},
   "outputs": [],
   "source": [
    "import json\n",
    "import boto3\n",
    "import time\n",
    "from botocore.exceptions import ClientError\n",
    "import os\n",
    "\n",
    "\n",
    "backupClient = boto3.client('backup')\n",
    "backupVaultName = 'test3'"
   ]
  },
  {
   "cell_type": "code",
   "execution_count": 111,
   "id": "c4f31b06",
   "metadata": {},
   "outputs": [],
   "source": [
    "def BackupVaultExists():\n",
    "  backupVaultsList = backupClient.list_backup_vaults().get('BackupVaultList')\n",
    "  display('--------', backupVaultsList)\n",
    "  backupVaultNames = [vault.get('BackupVaultName') for vault in backupVaultsList]\n",
    "  display('-----', backupVaultNames)\n",
    "  if backupVaultName in backupVaultNames:\n",
    "    print(True)\n",
    "    return True\n",
    "  else:\n",
    "    print('false')\n",
    "    return False"
   ]
  },
  {
   "cell_type": "code",
   "execution_count": 112,
   "id": "486686c9",
   "metadata": {},
   "outputs": [],
   "source": [
    "def createBackUpVault(backupVaultName, kmsKeyARN):\n",
    "  response = backupClient.create_backup_vault(\n",
    "    BackupVaultName = backupVaultName,\n",
    "    EncryptionKeyArn = kmsKeyARN,\n",
    ")"
   ]
  },
  {
   "cell_type": "code",
   "execution_count": 113,
   "id": "0c214539",
   "metadata": {},
   "outputs": [],
   "source": [
    "def lambda_handler(event, context):\n",
    "  if BackupVaultExists() == False:\n",
    "    createBackUpVault(backupVaultName, kmsKeyARN)\n"
   ]
  },
  {
   "cell_type": "code",
   "execution_count": 114,
   "id": "5ef54f8a",
   "metadata": {},
   "outputs": [
    {
     "data": {
      "text/plain": [
       "'--------'"
      ]
     },
     "metadata": {},
     "output_type": "display_data"
    },
    {
     "data": {
      "text/plain": [
       "[{'BackupVaultName': 'Default',\n",
       "  'BackupVaultArn': 'arn:aws:backup:us-east-1:526329662628:backup-vault:Default',\n",
       "  'CreationDate': datetime.datetime(2022, 6, 2, 16, 58, 51, 429000, tzinfo=tzlocal()),\n",
       "  'EncryptionKeyArn': 'arn:aws:kms:us-east-1:526329662628:key/b904738d-dd22-47b5-807d-fc32c22bd1e7',\n",
       "  'CreatorRequestId': 'Default',\n",
       "  'NumberOfRecoveryPoints': 0,\n",
       "  'Locked': False},\n",
       " {'BackupVaultName': 'test1',\n",
       "  'BackupVaultArn': 'arn:aws:backup:us-east-1:526329662628:backup-vault:test1',\n",
       "  'CreationDate': datetime.datetime(2022, 6, 2, 16, 59, 46, 259000, tzinfo=tzlocal()),\n",
       "  'EncryptionKeyArn': 'arn:aws:kms:us-east-1:526329662628:key/b904738d-dd22-47b5-807d-fc32c22bd1e7',\n",
       "  'CreatorRequestId': 'e9dcb70c-6ba4-4a96-819d-9f7b95617b72',\n",
       "  'NumberOfRecoveryPoints': 0,\n",
       "  'Locked': False},\n",
       " {'BackupVaultName': 'test2',\n",
       "  'BackupVaultArn': 'arn:aws:backup:us-east-1:526329662628:backup-vault:test2',\n",
       "  'CreationDate': datetime.datetime(2022, 6, 2, 16, 59, 57, 589000, tzinfo=tzlocal()),\n",
       "  'EncryptionKeyArn': 'arn:aws:kms:us-east-1:526329662628:key/b904738d-dd22-47b5-807d-fc32c22bd1e7',\n",
       "  'CreatorRequestId': '69acc79e-9f34-4e6b-a1a0-b2fc7ac4d1c5',\n",
       "  'NumberOfRecoveryPoints': 0,\n",
       "  'Locked': False}]"
      ]
     },
     "metadata": {},
     "output_type": "display_data"
    },
    {
     "data": {
      "text/plain": [
       "'-----'"
      ]
     },
     "metadata": {},
     "output_type": "display_data"
    },
    {
     "data": {
      "text/plain": [
       "['Default', 'test1', 'test2']"
      ]
     },
     "metadata": {},
     "output_type": "display_data"
    },
    {
     "name": "stdout",
     "output_type": "stream",
     "text": [
      "false\n"
     ]
    }
   ],
   "source": [
    "lambda_handler('event', 'context')"
   ]
  },
  {
   "cell_type": "code",
   "execution_count": null,
   "id": "24441bf0",
   "metadata": {},
   "outputs": [],
   "source": []
  },
  {
   "cell_type": "code",
   "execution_count": null,
   "id": "f8747d16",
   "metadata": {},
   "outputs": [],
   "source": []
  },
  {
   "cell_type": "code",
   "execution_count": null,
   "id": "76994b74",
   "metadata": {},
   "outputs": [],
   "source": []
  },
  {
   "cell_type": "code",
   "execution_count": 59,
   "id": "ab3fd947",
   "metadata": {},
   "outputs": [
    {
     "data": {
      "text/plain": [
       "['a', 'b', 'c', 'd', 'e']"
      ]
     },
     "execution_count": 59,
     "metadata": {},
     "output_type": "execute_result"
    }
   ],
   "source": [
    "list = ['a', 'b', 'c', 'd', 'e']\n",
    "list[:]"
   ]
  },
  {
   "cell_type": "code",
   "execution_count": null,
   "id": "62c16261",
   "metadata": {},
   "outputs": [],
   "source": []
  }
 ],
 "metadata": {
  "kernelspec": {
   "display_name": "Python 3 (ipykernel)",
   "language": "python",
   "name": "python3"
  },
  "language_info": {
   "codemirror_mode": {
    "name": "ipython",
    "version": 3
   },
   "file_extension": ".py",
   "mimetype": "text/x-python",
   "name": "python",
   "nbconvert_exporter": "python",
   "pygments_lexer": "ipython3",
   "version": "3.9.13"
  }
 },
 "nbformat": 4,
 "nbformat_minor": 5
}
