{
 "cells": [
  {
   "cell_type": "code",
   "execution_count": 36,
   "id": "36c1d511",
   "metadata": {},
   "outputs": [],
   "source": [
    "import json\n",
    "import boto3\n",
    "import time\n",
    "from botocore.exceptions import ClientError\n",
    "import os"
   ]
  },
  {
   "cell_type": "code",
   "execution_count": 37,
   "id": "a6b6470e",
   "metadata": {},
   "outputs": [],
   "source": [
    "backupVaultName = 'test-1'\n",
    "startWindowMinutes = 60\n",
    "completionWindowMinutes = 120\n",
    "moveToColdStorageAfterDays = 30\n",
    "deleteAfterDays = moveToColdStorageAfterDays + 90\n",
    "recoveryPointTagValue = 'on-demand-backup'\n",
    "kmsKeyARN = 'enter-arn'\n",
    "backupRoleARN = 'enter-arn'\n",
    "ddbTableArn = 'enter arn'"
   ]
  },
  {
   "cell_type": "code",
   "execution_count": 38,
   "id": "7c347ae6",
   "metadata": {},
   "outputs": [],
   "source": [
    "backupClient = boto3.client('backup')"
   ]
  },
  {
   "cell_type": "code",
   "execution_count": 39,
   "id": "72ebdedf",
   "metadata": {},
   "outputs": [],
   "source": [
    "def BackupVaultExists():\n",
    "  backupVaultsList = backupClient.list_backup_vaults().get('BackupVaultList')\n",
    "  backupVaultNames = [vault.get('BackupVaultName') for vault in backupVaultsList]\n",
    "  if backupVaultName in backupVaultNames:\n",
    "    return True\n",
    "  else:\n",
    "    return False"
   ]
  },
  {
   "cell_type": "code",
   "execution_count": 40,
   "id": "2ef2ec48",
   "metadata": {},
   "outputs": [],
   "source": [
    "def createBackUpVault(backupVaultName, kmsKeyARN):\n",
    "  response = backupClient.create_backup_vault(\n",
    "    BackupVaultName = backupVaultName,\n",
    "    EncryptionKeyArn = kmsKeyARN\n",
    ")"
   ]
  },
  {
   "cell_type": "code",
   "execution_count": 41,
   "id": "dd1a53ad",
   "metadata": {},
   "outputs": [],
   "source": [
    "def backupDdbTable(backupVaultName, ddbTableArn, backupRoleARN, startWindowMinutes, completionWindowMinutes, moveToColdStorageAfterDays, deleteAfterDays, recoveryPointTagValue):\n",
    "  response = backupClient.start_backup_job(\n",
    "    BackupVaultName = backupVaultName,\n",
    "    ResourceArn = ddbTableArn,\n",
    "    IamRoleArn = backupRoleARN,\n",
    "    StartWindowMinutes=startWindowMinutes,\n",
    "    CompleteWindowMinutes=completionWindowMinutes,\n",
    "    Lifecycle={\n",
    "        'MoveToColdStorageAfterDays': moveToColdStorageAfterDays,\n",
    "        'DeleteAfterDays': deleteAfterDays\n",
    "    },\n",
    "    RecoveryPointTags={\n",
    "        'ddb-backup': recoveryPointTagValue\n",
    "    }\n",
    "  )\n",
    "  display(response)"
   ]
  },
  {
   "cell_type": "code",
   "execution_count": 42,
   "id": "b979611c",
   "metadata": {},
   "outputs": [],
   "source": [
    "# def backupNeptune(backupVaultName, ddbTableArn, backupRoleARN, startWindowMinutes, completionWindowMinutes, moveToColdStorageAfterDays, deleteAfterDays, recoveryPointTagValue):\n",
    "#   response = backupClient.start_backup_job(\n",
    "#     BackupVaultName = backupVaultName,\n",
    "#     ResourceArn = enter-neptune-arn-here,\n",
    "#     IamRoleArn = backupRoleARN,\n",
    "#     IdempotencyToken='string',\n",
    "#     StartWindowMinutes=startWindowMinutes,\n",
    "#     CompleteWindowMinutes=completionWindowMinutes,\n",
    "#     Lifecycle={\n",
    "#         'MoveToColdStorageAfterDays': moveToColdStorageAfterDays,\n",
    "#         'DeleteAfterDays': deleteAfterDays\n",
    "#     },\n",
    "#     RecoveryPointTags={\n",
    "#         'ddb-backup': recoveryPointTagValue\n",
    "#     }\n",
    "# )"
   ]
  },
  {
   "cell_type": "code",
   "execution_count": 43,
   "id": "e2cde6fc",
   "metadata": {},
   "outputs": [],
   "source": [
    "def lambda_handler(event, context):\n",
    "  if BackupVaultExists() == False:\n",
    "    createBackUpVault(backupVaultName, kmsKeyARN)\n",
    "  backupDdbTable(backupVaultName, ddbTableArn, backupRoleARN, startWindowMinutes, completionWindowMinutes, moveToColdStorageAfterDays, deleteAfterDays, recoveryPointTagValue)"
   ]
  },
  {
   "cell_type": "code",
   "execution_count": 44,
   "id": "7c42c2ea",
   "metadata": {},
   "outputs": [
    {
     "data": {
      "text/plain": [
       "{'ResponseMetadata': {'RequestId': '991bba44-889f-4b93-a8c4-52bf10f4348a',\n",
       "  'HTTPStatusCode': 200,\n",
       "  'HTTPHeaders': {'date': 'Fri, 03 Jun 2022 01:11:00 GMT',\n",
       "   'content-type': 'application/json',\n",
       "   'content-length': '197',\n",
       "   'connection': 'keep-alive',\n",
       "   'x-amzn-requestid': '991bba44-889f-4b93-a8c4-52bf10f4348a'},\n",
       "  'RetryAttempts': 0},\n",
       " 'BackupJobId': 'B45CFFE0-84DD-3D20-D928-BEE85E7B0F21',\n",
       " 'RecoveryPointArn': 'arn:aws:backup:us-east-1:526329662628:recovery-point:f742bcc1-c89a-4dad-bac6-b5489542604b',\n",
       " 'CreationDate': datetime.datetime(2022, 6, 2, 17, 54, 56, 524000, tzinfo=tzlocal())}"
      ]
     },
     "metadata": {},
     "output_type": "display_data"
    }
   ],
   "source": [
    "lambda_handler('event', 'context')"
   ]
  },
  {
   "cell_type": "code",
   "execution_count": null,
   "id": "b8efbb4f",
   "metadata": {},
   "outputs": [],
   "source": []
  }
 ],
 "metadata": {
  "kernelspec": {
   "display_name": "Python 3 (ipykernel)",
   "language": "python",
   "name": "python3"
  },
  "language_info": {
   "codemirror_mode": {
    "name": "ipython",
    "version": 3
   },
   "file_extension": ".py",
   "mimetype": "text/x-python",
   "name": "python",
   "nbconvert_exporter": "python",
   "pygments_lexer": "ipython3",
   "version": "3.9.13"
  }
 },
 "nbformat": 4,
 "nbformat_minor": 5
}
